{
  "nbformat": 4,
  "nbformat_minor": 0,
  "metadata": {
    "colab": {
      "provenance": [],
      "collapsed_sections": [
        "y4PNhsdYjehp"
      ]
    },
    "kernelspec": {
      "name": "python3",
      "display_name": "Python 3"
    },
    "language_info": {
      "name": "python"
    }
  },
  "cells": [
    {
      "cell_type": "markdown",
      "source": [
        "# 5주차"
      ],
      "metadata": {
        "id": "K3QVILbkbBRo"
      }
    },
    {
      "cell_type": "code",
      "source": [
        "import pandas as pd\n",
        "\n",
        "from google.colab import drive\n",
        "drive.mount('/content/drive')\n"
      ],
      "metadata": {
        "colab": {
          "base_uri": "https://localhost:8080/"
        },
        "id": "0BDHeI8mhSvM",
        "outputId": "f669a2be-c584-4590-bc4a-5fa3aabcbfbc"
      },
      "execution_count": 1,
      "outputs": [
        {
          "output_type": "stream",
          "name": "stdout",
          "text": [
            "Mounted at /content/drive\n"
          ]
        }
      ]
    },
    {
      "cell_type": "code",
      "source": [
        "# 타이타닉 데이터 로딩\n",
        "train = pd.read_csv('/content/drive/MyDrive/Titanic/train.csv')\n",
        "test = pd.read_csv('/content/drive/MyDrive/Titanic/test.csv')"
      ],
      "metadata": {
        "id": "D17Pi0rslP1y"
      },
      "execution_count": 2,
      "outputs": []
    },
    {
      "cell_type": "markdown",
      "source": [
        "## 간단 EDA"
      ],
      "metadata": {
        "id": "y4PNhsdYjehp"
      }
    },
    {
      "cell_type": "code",
      "source": [
        "import seaborn as sns\n",
        "import matplotlib.pyplot as plt\n",
        "\n",
        "#결측치 확인\n",
        "print(train.isnull().sum().sort_values(ascending=False))\n",
        "print(test.isnull().sum().sort_values(ascending=False))\n",
        "\n",
        "# 생존율 확인\n",
        "sns.countplot(data=train, x=\"Survived\", hue=\"Sex\")\n",
        "plt.title(\"성별 생존율 비교\")\n",
        "plt.show()\n",
        "\n",
        "# 나이 분포\n",
        "sns.histplot(data=train, x=\"Age\", hue=\"Survived\", bins=30)\n",
        "plt.title(\"나이와 생존 관계\")\n",
        "plt.show()\n",
        "\n",
        "\n"
      ],
      "metadata": {
        "colab": {
          "base_uri": "https://localhost:8080/",
          "height": 0
        },
        "id": "XhGjULHCfsx8",
        "outputId": "d49f629c-fbae-4b0c-9d1a-cf49634f9bf1"
      },
      "execution_count": 6,
      "outputs": [
        {
          "output_type": "stream",
          "name": "stdout",
          "text": [
            "Cabin          687\n",
            "Age            177\n",
            "Embarked         2\n",
            "PassengerId      0\n",
            "Name             0\n",
            "Pclass           0\n",
            "Survived         0\n",
            "Sex              0\n",
            "Parch            0\n",
            "SibSp            0\n",
            "Fare             0\n",
            "Ticket           0\n",
            "dtype: int64\n",
            "Cabin          327\n",
            "Age             86\n",
            "Fare             1\n",
            "Name             0\n",
            "Pclass           0\n",
            "PassengerId      0\n",
            "Sex              0\n",
            "Parch            0\n",
            "SibSp            0\n",
            "Ticket           0\n",
            "Embarked         0\n",
            "dtype: int64\n"
          ]
        },
        {
          "output_type": "stream",
          "name": "stderr",
          "text": [
            "/usr/local/lib/python3.11/dist-packages/IPython/core/pylabtools.py:151: UserWarning: Glyph 49457 (\\N{HANGUL SYLLABLE SEONG}) missing from font(s) DejaVu Sans.\n",
            "  fig.canvas.print_figure(bytes_io, **kw)\n",
            "/usr/local/lib/python3.11/dist-packages/IPython/core/pylabtools.py:151: UserWarning: Glyph 48324 (\\N{HANGUL SYLLABLE BYEOL}) missing from font(s) DejaVu Sans.\n",
            "  fig.canvas.print_figure(bytes_io, **kw)\n",
            "/usr/local/lib/python3.11/dist-packages/IPython/core/pylabtools.py:151: UserWarning: Glyph 49373 (\\N{HANGUL SYLLABLE SAENG}) missing from font(s) DejaVu Sans.\n",
            "  fig.canvas.print_figure(bytes_io, **kw)\n",
            "/usr/local/lib/python3.11/dist-packages/IPython/core/pylabtools.py:151: UserWarning: Glyph 51316 (\\N{HANGUL SYLLABLE JON}) missing from font(s) DejaVu Sans.\n",
            "  fig.canvas.print_figure(bytes_io, **kw)\n",
            "/usr/local/lib/python3.11/dist-packages/IPython/core/pylabtools.py:151: UserWarning: Glyph 50984 (\\N{HANGUL SYLLABLE YUL}) missing from font(s) DejaVu Sans.\n",
            "  fig.canvas.print_figure(bytes_io, **kw)\n",
            "/usr/local/lib/python3.11/dist-packages/IPython/core/pylabtools.py:151: UserWarning: Glyph 48708 (\\N{HANGUL SYLLABLE BI}) missing from font(s) DejaVu Sans.\n",
            "  fig.canvas.print_figure(bytes_io, **kw)\n",
            "/usr/local/lib/python3.11/dist-packages/IPython/core/pylabtools.py:151: UserWarning: Glyph 44368 (\\N{HANGUL SYLLABLE GYO}) missing from font(s) DejaVu Sans.\n",
            "  fig.canvas.print_figure(bytes_io, **kw)\n"
          ]
        },
        {
          "output_type": "display_data",
          "data": {
            "text/plain": [
              "<Figure size 640x480 with 1 Axes>"
            ],
            "image/png": "[encoded data removed]"
          },
          "metadata": {}
        },
        {
          "output_type": "stream",
          "name": "stderr",
          "text": [
            "/usr/local/lib/python3.11/dist-packages/IPython/core/pylabtools.py:151: UserWarning: Glyph 45208 (\\N{HANGUL SYLLABLE NA}) missing from font(s) DejaVu Sans.\n",
            "  fig.canvas.print_figure(bytes_io, **kw)\n",
            "/usr/local/lib/python3.11/dist-packages/IPython/core/pylabtools.py:151: UserWarning: Glyph 51060 (\\N{HANGUL SYLLABLE I}) missing from font(s) DejaVu Sans.\n",
            "  fig.canvas.print_figure(bytes_io, **kw)\n",
            "/usr/local/lib/python3.11/dist-packages/IPython/core/pylabtools.py:151: UserWarning: Glyph 50752 (\\N{HANGUL SYLLABLE WA}) missing from font(s) DejaVu Sans.\n",
            "  fig.canvas.print_figure(bytes_io, **kw)\n",
            "/usr/local/lib/python3.11/dist-packages/IPython/core/pylabtools.py:151: UserWarning: Glyph 49373 (\\N{HANGUL SYLLABLE SAENG}) missing from font(s) DejaVu Sans.\n",
            "  fig.canvas.print_figure(bytes_io, **kw)\n",
            "/usr/local/lib/python3.11/dist-packages/IPython/core/pylabtools.py:151: UserWarning: Glyph 51316 (\\N{HANGUL SYLLABLE JON}) missing from font(s) DejaVu Sans.\n",
            "  fig.canvas.print_figure(bytes_io, **kw)\n",
            "/usr/local/lib/python3.11/dist-packages/IPython/core/pylabtools.py:151: UserWarning: Glyph 44288 (\\N{HANGUL SYLLABLE GWAN}) missing from font(s) DejaVu Sans.\n",
            "  fig.canvas.print_figure(bytes_io, **kw)\n",
            "/usr/local/lib/python3.11/dist-packages/IPython/core/pylabtools.py:151: UserWarning: Glyph 44228 (\\N{HANGUL SYLLABLE GYE}) missing from font(s) DejaVu Sans.\n",
            "  fig.canvas.print_figure(bytes_io, **kw)\n"
          ]
        },
        {
          "output_type": "display_data",
          "data": {
            "text/plain": [
              "<Figure size 640x480 with 1 Axes>"
            ],
            "image/png": "[encoded data removed]"
          },
          "metadata": {}
        }
      ]
    },
    {
      "cell_type": "markdown",
      "source": [
        "##데이터 전처리"
      ],
      "metadata": {
        "id": "TdmVMuVvju3t"
      }
    },
    {
      "cell_type": "code",
      "source": [
        "import seaborn as sns\n",
        "import matplotlib.pyplot as plt\n",
        "\n",
        "# 수치형 변수 간 상관관계 확인\n",
        "numeric_cols = train.select_dtypes(include=['int64', 'float64']).columns\n",
        "corr = train[numeric_cols].corr()\n",
        "\n",
        "plt.figure(figsize=(8, 6))\n",
        "sns.heatmap(corr, annot=True, cmap='coolwarm')\n",
        "plt.title(\"수치형 변수 간 상관관계 (train)\")\n",
        "plt.show()"
      ],
      "metadata": {
        "colab": {
          "base_uri": "https://localhost:8080/",
          "height": 904
        },
        "id": "S6iA1uYqqEDf",
        "outputId": "19d98817-dcb3-4747-b578-b45a7dbf2203"
      },
      "execution_count": 3,
      "outputs": [
        {
          "output_type": "stream",
          "name": "stderr",
          "text": [
            "/usr/local/lib/python3.11/dist-packages/IPython/core/pylabtools.py:151: UserWarning: Glyph 49688 (\\N{HANGUL SYLLABLE SU}) missing from font(s) DejaVu Sans.\n",
            "  fig.canvas.print_figure(bytes_io, **kw)\n",
            "/usr/local/lib/python3.11/dist-packages/IPython/core/pylabtools.py:151: UserWarning: Glyph 52824 (\\N{HANGUL SYLLABLE CI}) missing from font(s) DejaVu Sans.\n",
            "  fig.canvas.print_figure(bytes_io, **kw)\n",
            "/usr/local/lib/python3.11/dist-packages/IPython/core/pylabtools.py:151: UserWarning: Glyph 54805 (\\N{HANGUL SYLLABLE HYEONG}) missing from font(s) DejaVu Sans.\n",
            "  fig.canvas.print_figure(bytes_io, **kw)\n",
            "/usr/local/lib/python3.11/dist-packages/IPython/core/pylabtools.py:151: UserWarning: Glyph 48320 (\\N{HANGUL SYLLABLE BYEON}) missing from font(s) DejaVu Sans.\n",
            "  fig.canvas.print_figure(bytes_io, **kw)\n",
            "/usr/local/lib/python3.11/dist-packages/IPython/core/pylabtools.py:151: UserWarning: Glyph 44036 (\\N{HANGUL SYLLABLE GAN}) missing from font(s) DejaVu Sans.\n",
            "  fig.canvas.print_figure(bytes_io, **kw)\n",
            "/usr/local/lib/python3.11/dist-packages/IPython/core/pylabtools.py:151: UserWarning: Glyph 49345 (\\N{HANGUL SYLLABLE SANG}) missing from font(s) DejaVu Sans.\n",
            "  fig.canvas.print_figure(bytes_io, **kw)\n",
            "/usr/local/lib/python3.11/dist-packages/IPython/core/pylabtools.py:151: UserWarning: Glyph 44288 (\\N{HANGUL SYLLABLE GWAN}) missing from font(s) DejaVu Sans.\n",
            "  fig.canvas.print_figure(bytes_io, **kw)\n",
            "/usr/local/lib/python3.11/dist-packages/IPython/core/pylabtools.py:151: UserWarning: Glyph 44228 (\\N{HANGUL SYLLABLE GYE}) missing from font(s) DejaVu Sans.\n",
            "  fig.canvas.print_figure(bytes_io, **kw)\n"
          ]
        },
        {
          "output_type": "display_data",
          "data": {
            "text/plain": [
              "<Figure size 800x600 with 2 Axes>"
            ],
            "image/png": "[encoded data removed]"
          },
          "metadata": {}
        }
      ]
    },
    {
      "cell_type": "markdown",
      "source": [
        "Age 결측치를 어떻게 하면 현명하게 처리할 수 있을까 고민하다가 선형 상관관계가 있나 분석해보았다. 0.34를 가진 Pclass 변수가 다소 상관관계가 있지만 얘를 기준으로 예측하기에는 무리가 있어보였다."
      ],
      "metadata": {
        "id": "V_bLowZwquqr"
      }
    },
    {
      "cell_type": "code",
      "source": [
        "from sklearn.preprocessing import LabelEncoder\n",
        "import pandas as pd\n",
        "\n",
        "# 원본 데이터 복사\n",
        "train_processed = train.copy()\n",
        "test_processed = test.copy()\n",
        "\n",
        "# 결측치 처리\n",
        "train_processed[\"Age\"] = train_processed.groupby([\"Pclass\", \"Sex\"])[\"Age\"].transform(lambda x: x.fillna(x.mean()))\n",
        "train_processed[\"Embarked\"] = train_processed[\"Embarked\"].fillna(train_processed[\"Embarked\"].mode()[0])\n",
        "\n",
        "test_processed[\"Age\"] = test_processed.groupby([\"Pclass\", \"Sex\"])[\"Age\"].transform(lambda x: x.fillna(x.mean()))\n",
        "test_processed[\"Fare\"] = test_processed[\"Fare\"].fillna(test_processed.groupby(\"Pclass\")[\"Fare\"].transform(\"mean\"))\n",
        "\n",
        "# FamilySize 변수 생성\n",
        "train_processed[\"FamilySize\"] = train_processed[\"SibSp\"] + train_processed[\"Parch\"] + 1\n",
        "test_processed[\"FamilySize\"] = test_processed[\"SibSp\"] + test_processed[\"Parch\"] + 1\n",
        "\"\"\"\n",
        "# 이상치 처리 (Fare 기준 IQR)\n",
        "Q1 = train_processed['Fare'].quantile(0.25)\n",
        "Q3 = train_processed['Fare'].quantile(0.75)\n",
        "IQR = Q3 - Q1\n",
        "lower_bound = Q1 - 1.5 * IQR\n",
        "upper_bound = Q3 + 1.5 * IQR\n",
        "train_processed = train_processed[(train_processed['Fare'] >= lower_bound) & (train_processed['Fare'] <= upper_bound)].copy()\n",
        "#얘는 빼는게 성능이 더 나았음, 상류층일수록 생존률이 높기 때문일듯\"\"\"\n",
        "\n",
        "# 필요 없는 열 제거 (존재할 경우만 제거)\n",
        "test_ids = test_processed[\"PassengerId\"]\n",
        "cols_to_drop = [\"PassengerId\", \"Name\", \"Ticket\", \"Cabin\", \"SibSp\", \"Parch\"]\n",
        "train_processed = train_processed.drop(columns=[col for col in cols_to_drop if col in train_processed.columns])\n",
        "test_processed = test_processed.drop(columns=[col for col in cols_to_drop if col in test_processed.columns])\n",
        "\n",
        "# 범주형 변수 인코딩\n",
        "cols = [\"Sex\", \"Embarked\"]\n",
        "le = LabelEncoder()\n",
        "for col in cols:\n",
        "    train_processed[col] = le.fit_transform(train_processed[col])\n",
        "    test_processed[col] = le.transform(test_processed[col])\n",
        "'''\n",
        "# AgeGroup 범주형으로 변환\n",
        "def age_category(age):\n",
        "    if age < 13:\n",
        "        return 'Child'\n",
        "    elif age < 20:\n",
        "        return 'Teen'\n",
        "    elif age < 36:\n",
        "        return 'Young'\n",
        "    elif age < 61:\n",
        "        return 'Adult'\n",
        "    else:\n",
        "        return 'Senior'\n",
        "\n",
        "train_processed[\"AgeGroup\"] = train_processed[\"Age\"].apply(age_category)\n",
        "test_processed[\"AgeGroup\"] = test_processed[\"Age\"].apply(age_category)\n",
        "\n",
        "\n",
        "\n",
        "# AgeGroup 원-핫 인코딩\n",
        "X = pd.get_dummies(X, columns=[\"AgeGroup\"], drop_first=True)\n",
        "test_processed = pd.get_dummies(test_processed, columns=[\"AgeGroup\"], drop_first=True)\n",
        "'''\n",
        "\n",
        "# 타겟 분리\n",
        "X = train_processed.drop(\"Survived\", axis=1)\n",
        "y = train_processed[\"Survived\"]\n",
        "\n",
        "# 열 정렬 일치\n",
        "X, test_processed = X.align(test_processed, join='left', axis=1, fill_value=0)\n"
      ],
      "metadata": {
        "id": "mVyFURGSbDOG"
      },
      "execution_count": 19,
      "outputs": []
    },
    {
      "cell_type": "markdown",
      "source": [
        "## 모델링"
      ],
      "metadata": {
        "id": "dUpjGXmXrFNG"
      }
    },
    {
      "cell_type": "markdown",
      "source": [
        "AgeGroup 범주형으로 변환했을때+ 이상치 제거 버전"
      ],
      "metadata": {
        "id": "HzLBPSqRxBp8"
      }
    },
    {
      "cell_type": "code",
      "source": [
        "from sklearn.model_selection import train_test_split\n",
        "from sklearn.linear_model import LogisticRegression\n",
        "from sklearn.ensemble import RandomForestClassifier\n",
        "from xgboost import XGBClassifier\n",
        "from sklearn.metrics import accuracy_score, classification_report\n",
        "\n",
        "# 1. 학습/검증 데이터 분리\n",
        "X_train, X_val, y_train, y_val = train_test_split(X, y, test_size=0.2, random_state=42)\n",
        "\n",
        "# 2. 모델 정의\n",
        "models = {\n",
        "    \"Logistic Regression\": LogisticRegression(max_iter=1000),\n",
        "    \"Random Forest\": RandomForestClassifier(n_estimators=100, random_state=42),\n",
        "    \"XGBoost\": XGBClassifier(n_estimators=100, random_state=42, use_label_encoder=False, eval_metric='logloss')\n",
        "}\n",
        "\n",
        "# 3. 학습 및 평가\n",
        "for name, model in models.items():\n",
        "    model.fit(X_train, y_train)\n",
        "    preds = model.predict(X_val)\n",
        "    acc = accuracy_score(y_val, preds)\n",
        "    print(f\"\\n📌 {name}\")\n",
        "    print(f\"✅ Accuracy: {acc:.4f}\")\n",
        "    print(classification_report(y_val, preds))\n"
      ],
      "metadata": {
        "colab": {
          "base_uri": "https://localhost:8080/"
        },
        "id": "L00keVx9w1k0",
        "outputId": "189375c3-9107-40f6-d63c-da7accf2ff61"
      },
      "execution_count": 9,
      "outputs": [
        {
          "output_type": "stream",
          "name": "stdout",
          "text": [
            "\n",
            "📌 Logistic Regression\n",
            "✅ Accuracy: 0.7806\n",
            "              precision    recall  f1-score   support\n",
            "\n",
            "           0       0.79      0.88      0.83        95\n",
            "           1       0.77      0.62      0.69        60\n",
            "\n",
            "    accuracy                           0.78       155\n",
            "   macro avg       0.78      0.75      0.76       155\n",
            "weighted avg       0.78      0.78      0.77       155\n",
            "\n",
            "\n",
            "📌 Random Forest\n",
            "✅ Accuracy: 0.7613\n",
            "              precision    recall  f1-score   support\n",
            "\n",
            "           0       0.78      0.85      0.81        95\n",
            "           1       0.73      0.62      0.67        60\n",
            "\n",
            "    accuracy                           0.76       155\n",
            "   macro avg       0.75      0.73      0.74       155\n",
            "weighted avg       0.76      0.76      0.76       155\n",
            "\n",
            "\n",
            "📌 XGBoost\n",
            "✅ Accuracy: 0.8129\n",
            "              precision    recall  f1-score   support\n",
            "\n",
            "           0       0.81      0.91      0.86        95\n",
            "           1       0.82      0.67      0.73        60\n",
            "\n",
            "    accuracy                           0.81       155\n",
            "   macro avg       0.81      0.79      0.79       155\n",
            "weighted avg       0.81      0.81      0.81       155\n",
            "\n"
          ]
        },
        {
          "output_type": "stream",
          "name": "stderr",
          "text": [
            "/usr/local/lib/python3.11/dist-packages/xgboost/core.py:158: UserWarning: [09:03:48] WARNING: /workspace/src/learner.cc:740: \n",
            "Parameters: { \"use_label_encoder\" } are not used.\n",
            "\n",
            "  warnings.warn(smsg, UserWarning)\n"
          ]
        }
      ]
    },
    {
      "cell_type": "markdown",
      "source": [
        "AgeGroup 범주형으로 변환했을때+ 이상치 *제거안한* 버전\n"
      ],
      "metadata": {
        "id": "4I_zbqH20TL9"
      }
    },
    {
      "cell_type": "code",
      "source": [
        "from sklearn.model_selection import train_test_split\n",
        "from sklearn.linear_model import LogisticRegression\n",
        "from sklearn.ensemble import RandomForestClassifier\n",
        "from xgboost import XGBClassifier\n",
        "from sklearn.metrics import accuracy_score, classification_report\n",
        "\n",
        "# 1. 학습/검증 데이터 분리\n",
        "X_train, X_val, y_train, y_val = train_test_split(X, y, test_size=0.2, random_state=42)\n",
        "\n",
        "# 2. 모델 정의\n",
        "models = {\n",
        "    \"Logistic Regression\": LogisticRegression(max_iter=1000),\n",
        "    \"Random Forest\": RandomForestClassifier(n_estimators=100, random_state=42),\n",
        "    \"XGBoost\": XGBClassifier(n_estimators=100, random_state=42, use_label_encoder=False, eval_metric='logloss')\n",
        "}\n",
        "\n",
        "# 3. 학습 및 평가\n",
        "for name, model in models.items():\n",
        "    model.fit(X_train, y_train)\n",
        "    preds = model.predict(X_val)\n",
        "    acc = accuracy_score(y_val, preds)\n",
        "    print(f\"\\n📌 {name}\")\n",
        "    print(f\"✅ Accuracy: {acc:.4f}\")\n",
        "    print(classification_report(y_val, preds))"
      ],
      "metadata": {
        "colab": {
          "base_uri": "https://localhost:8080/"
        },
        "id": "1N8HnS7V0AnO",
        "outputId": "333dd5a0-1227-47ed-d4ee-f0ad16dbaff1"
      },
      "execution_count": 11,
      "outputs": [
        {
          "output_type": "stream",
          "name": "stdout",
          "text": [
            "\n",
            "📌 Logistic Regression\n",
            "✅ Accuracy: 0.8156\n",
            "              precision    recall  f1-score   support\n",
            "\n",
            "           0       0.83      0.87      0.85       105\n",
            "           1       0.80      0.74      0.77        74\n",
            "\n",
            "    accuracy                           0.82       179\n",
            "   macro avg       0.81      0.80      0.81       179\n",
            "weighted avg       0.81      0.82      0.81       179\n",
            "\n",
            "\n",
            "📌 Random Forest\n",
            "✅ Accuracy: 0.8212\n",
            "              precision    recall  f1-score   support\n",
            "\n",
            "           0       0.84      0.86      0.85       105\n",
            "           1       0.79      0.77      0.78        74\n",
            "\n",
            "    accuracy                           0.82       179\n",
            "   macro avg       0.82      0.81      0.81       179\n",
            "weighted avg       0.82      0.82      0.82       179\n",
            "\n",
            "\n",
            "📌 XGBoost\n",
            "✅ Accuracy: 0.7989\n",
            "              precision    recall  f1-score   support\n",
            "\n",
            "           0       0.83      0.82      0.83       105\n",
            "           1       0.75      0.77      0.76        74\n",
            "\n",
            "    accuracy                           0.80       179\n",
            "   macro avg       0.79      0.79      0.79       179\n",
            "weighted avg       0.80      0.80      0.80       179\n",
            "\n"
          ]
        },
        {
          "output_type": "stream",
          "name": "stderr",
          "text": [
            "/usr/local/lib/python3.11/dist-packages/xgboost/core.py:158: UserWarning: [09:04:06] WARNING: /workspace/src/learner.cc:740: \n",
            "Parameters: { \"use_label_encoder\" } are not used.\n",
            "\n",
            "  warnings.warn(smsg, UserWarning)\n"
          ]
        }
      ]
    },
    {
      "cell_type": "markdown",
      "source": [
        "AgeGroup 범주형으로 변환 안했을때 + 이상치 처리 한 버전"
      ],
      "metadata": {
        "id": "0y_KMjXExGMq"
      }
    },
    {
      "cell_type": "code",
      "source": [
        "from sklearn.model_selection import train_test_split\n",
        "from sklearn.linear_model import LogisticRegression\n",
        "from sklearn.ensemble import RandomForestClassifier\n",
        "from xgboost import XGBClassifier\n",
        "from sklearn.metrics import accuracy_score, classification_report\n",
        "\n",
        "# 1. 학습/검증 데이터 분리\n",
        "X_train, X_val, y_train, y_val = train_test_split(X, y, test_size=0.2, random_state=42)\n",
        "\n",
        "# 2. 모델 정의\n",
        "models = {\n",
        "    \"Logistic Regression\": LogisticRegression(max_iter=1000),\n",
        "    \"Random Forest\": RandomForestClassifier(n_estimators=100, random_state=42),\n",
        "    \"XGBoost\": XGBClassifier(n_estimators=100, random_state=42, use_label_encoder=False, eval_metric='logloss')\n",
        "}\n",
        "\n",
        "# 3. 학습 및 평가\n",
        "for name, model in models.items():\n",
        "    model.fit(X_train, y_train)\n",
        "    preds = model.predict(X_val)\n",
        "    acc = accuracy_score(y_val, preds)\n",
        "    print(f\"\\n📌 {name}\")\n",
        "    print(f\"✅ Accuracy: {acc:.4f}\")\n",
        "    print(classification_report(y_val, preds))"
      ],
      "metadata": {
        "colab": {
          "base_uri": "https://localhost:8080/"
        },
        "id": "zitlah01xTUt",
        "outputId": "ae4bdf2b-4cc3-4684-b40c-434a661e4285"
      },
      "execution_count": 18,
      "outputs": [
        {
          "output_type": "stream",
          "name": "stdout",
          "text": [
            "\n",
            "📌 Logistic Regression\n",
            "✅ Accuracy: 0.7613\n",
            "              precision    recall  f1-score   support\n",
            "\n",
            "           0       0.76      0.88      0.82        95\n",
            "           1       0.76      0.57      0.65        60\n",
            "\n",
            "    accuracy                           0.76       155\n",
            "   macro avg       0.76      0.73      0.73       155\n",
            "weighted avg       0.76      0.76      0.75       155\n",
            "\n",
            "\n",
            "📌 Random Forest\n",
            "✅ Accuracy: 0.7677\n",
            "              precision    recall  f1-score   support\n",
            "\n",
            "           0       0.79      0.84      0.82        95\n",
            "           1       0.72      0.65      0.68        60\n",
            "\n",
            "    accuracy                           0.77       155\n",
            "   macro avg       0.76      0.75      0.75       155\n",
            "weighted avg       0.77      0.77      0.77       155\n",
            "\n",
            "\n",
            "📌 XGBoost\n",
            "✅ Accuracy: 0.7935\n",
            "              precision    recall  f1-score   support\n",
            "\n",
            "           0       0.80      0.88      0.84        95\n",
            "           1       0.78      0.65      0.71        60\n",
            "\n",
            "    accuracy                           0.79       155\n",
            "   macro avg       0.79      0.77      0.77       155\n",
            "weighted avg       0.79      0.79      0.79       155\n",
            "\n"
          ]
        },
        {
          "output_type": "stream",
          "name": "stderr",
          "text": [
            "/usr/local/lib/python3.11/dist-packages/xgboost/core.py:158: UserWarning: [09:06:35] WARNING: /workspace/src/learner.cc:740: \n",
            "Parameters: { \"use_label_encoder\" } are not used.\n",
            "\n",
            "  warnings.warn(smsg, UserWarning)\n"
          ]
        }
      ]
    },
    {
      "cell_type": "markdown",
      "source": [
        "AgeGroup 범주형으로 변환 안했을때 + 이상치 처리 안한 버전"
      ],
      "metadata": {
        "id": "vFPKP7RJ0md_"
      }
    },
    {
      "cell_type": "code",
      "source": [
        "from sklearn.model_selection import train_test_split\n",
        "from sklearn.linear_model import LogisticRegression\n",
        "from sklearn.ensemble import RandomForestClassifier\n",
        "from xgboost import XGBClassifier\n",
        "from sklearn.metrics import accuracy_score, classification_report\n",
        "\n",
        "# 1. 학습/검증 데이터 분리\n",
        "X_train, X_val, y_train, y_val = train_test_split(X, y, test_size=0.2, random_state=42)\n",
        "\n",
        "# 2. 모델 정의\n",
        "models = {\n",
        "    \"Logistic Regression\": LogisticRegression(max_iter=1000),\n",
        "    \"Random Forest\": RandomForestClassifier(n_estimators=100, random_state=42),\n",
        "    \"XGBoost\": XGBClassifier(n_estimators=100, random_state=42, use_label_encoder=False, eval_metric='logloss')\n",
        "}\n",
        "\n",
        "# 3. 학습 및 평가\n",
        "for name, model in models.items():\n",
        "    model.fit(X_train, y_train)\n",
        "    preds = model.predict(X_val)\n",
        "    acc = accuracy_score(y_val, preds)\n",
        "    print(f\"\\n📌 {name}\")\n",
        "    print(f\"✅ Accuracy: {acc:.4f}\")\n",
        "    print(classification_report(y_val, preds))"
      ],
      "metadata": {
        "colab": {
          "base_uri": "https://localhost:8080/"
        },
        "id": "Ht3iyCg1VyjZ",
        "outputId": "fd8c750a-0425-4805-fe3b-db99f0762424"
      },
      "execution_count": 20,
      "outputs": [
        {
          "output_type": "stream",
          "name": "stdout",
          "text": [
            "\n",
            "📌 Logistic Regression\n",
            "✅ Accuracy: 0.8212\n",
            "              precision    recall  f1-score   support\n",
            "\n",
            "           0       0.83      0.88      0.85       105\n",
            "           1       0.81      0.74      0.77        74\n",
            "\n",
            "    accuracy                           0.82       179\n",
            "   macro avg       0.82      0.81      0.81       179\n",
            "weighted avg       0.82      0.82      0.82       179\n",
            "\n",
            "\n",
            "📌 Random Forest\n",
            "✅ Accuracy: 0.8436\n",
            "              precision    recall  f1-score   support\n",
            "\n",
            "           0       0.87      0.87      0.87       105\n",
            "           1       0.81      0.81      0.81        74\n",
            "\n",
            "    accuracy                           0.84       179\n",
            "   macro avg       0.84      0.84      0.84       179\n",
            "weighted avg       0.84      0.84      0.84       179\n",
            "\n",
            "\n",
            "📌 XGBoost\n",
            "✅ Accuracy: 0.7877\n",
            "              precision    recall  f1-score   support\n",
            "\n",
            "           0       0.83      0.81      0.82       105\n",
            "           1       0.74      0.76      0.75        74\n",
            "\n",
            "    accuracy                           0.79       179\n",
            "   macro avg       0.78      0.78      0.78       179\n",
            "weighted avg       0.79      0.79      0.79       179\n",
            "\n"
          ]
        },
        {
          "output_type": "stream",
          "name": "stderr",
          "text": [
            "/usr/local/lib/python3.11/dist-packages/xgboost/core.py:158: UserWarning: [09:07:02] WARNING: /workspace/src/learner.cc:740: \n",
            "Parameters: { \"use_label_encoder\" } are not used.\n",
            "\n",
            "  warnings.warn(smsg, UserWarning)\n"
          ]
        }
      ]
    },
    {
      "cell_type": "markdown",
      "source": [
        "당황스럽지만 전처리가 가장 간단했던 얘로 진행하기로함. GridSearchCV을 이용해서 Random Forest의 최적의 파라미터를 찾아보겠음"
      ],
      "metadata": {
        "id": "nUbKrLIa3CaF"
      }
    },
    {
      "cell_type": "code",
      "source": [
        "from sklearn.model_selection import RandomizedSearchCV\n",
        "from scipy.stats import randint\n",
        "\n",
        "# 랜덤 탐색 설정\n",
        "random_search = RandomizedSearchCV(\n",
        "    estimator=rf,\n",
        "    param_distributions={\n",
        "        'n_estimators': [100, 200, 300],\n",
        "        'max_depth': [5, 10, 15, 20, None],\n",
        "        'min_samples_split': [2, 5, 10],\n",
        "        'min_samples_leaf': [1, 2, 4],\n",
        "        'max_features': ['sqrt', 'log2']\n",
        "    },\n",
        "    n_iter=30,       # 랜덤 조합 30개만 테스트\n",
        "    cv=5,\n",
        "    scoring='accuracy',\n",
        "    n_jobs=-1,\n",
        "    verbose=2,\n",
        "    random_state=42\n",
        ")\n",
        "\n",
        "random_search.fit(X, y)\n",
        "\n",
        "print(\"✅ Best Parameters:\", random_search.best_params_)\n",
        "print(\"✅ Best Accuracy:\", random_search.best_score_)\n"
      ],
      "metadata": {
        "colab": {
          "base_uri": "https://localhost:8080/"
        },
        "id": "Vma9u1AJjhzQ",
        "outputId": "2fb9ba20-5ce0-47ca-cfc3-0ae1d069dd62"
      },
      "execution_count": null,
      "outputs": [
        {
          "output_type": "stream",
          "name": "stdout",
          "text": [
            "Fitting 5 folds for each of 30 candidates, totalling 150 fits\n",
            "✅ Best Parameters: {'n_estimators': 200, 'min_samples_split': 2, 'min_samples_leaf': 2, 'max_features': 'sqrt', 'max_depth': None}\n",
            "✅ Best Accuracy: 0.8272048207896553\n"
          ]
        }
      ]
    },
    {
      "cell_type": "markdown",
      "source": [],
      "metadata": {
        "id": "CumS58W0j9fJ"
      }
    }
  ]
}